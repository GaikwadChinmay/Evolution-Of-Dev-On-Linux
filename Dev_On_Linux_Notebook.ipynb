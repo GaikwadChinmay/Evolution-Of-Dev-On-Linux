{
  "nbformat": 4,
  "nbformat_minor": 0,
  "metadata": {
    "kernelspec": {
      "name": "python3",
      "display_name": "Python 3",
      "language": "python"
    },
    "language_info": {
      "name": "python",
      "version": "3.6.7",
      "mimetype": "text/x-python",
      "codemirror_mode": {
        "name": "ipython",
        "version": 3
      },
      "pygments_lexer": "ipython3",
      "nbconvert_exporter": "python",
      "file_extension": ".py"
    },
    "colab": {
      "name": "notebook.ipynb",
      "provenance": []
    }
  },
  "cells": [
    {
      "cell_type": "markdown",
      "metadata": {
        "dc": {
          "key": "4"
        },
        "deletable": false,
        "editable": false,
        "run_control": {
          "frozen": true
        },
        "tags": [
          "context"
        ],
        "id": "j7U-N4eSWnBK"
      },
      "source": [
        "## 1. Introduction\n",
        "\n",
        "<p>Version control repositories like CVS, Subversion or Git can be a real gold mine for software developers. They contain every change to the source code including the date (the \"when\"), the responsible developer (the \"who\"), as well as a little message that describes the intention (the \"what\") of a change.</p>\n",
        "<p>In this notebook, we will analyze the evolution of a very famous open-source project &ndash; the Linux kernel. The Linux kernel is the heart of some Linux distributions like Debian, Ubuntu or CentOS. Our dataset at hand contains the history of kernel development of almost 13 years (early 2005 - late 2017). We get some insights into the work of the development efforts by </p>\n",
        "<ul>\n",
        "<li>identifying the TOP 10 contributors and</li>\n",
        "<li>visualizing the commits over the years.</li>\n",
        "</ul>"
      ]
    },
    {
      "cell_type": "code",
      "metadata": {
        "id": "yh8AnRCAXj3v"
      },
      "source": [
        "#Importing required pacakages\n",
        "import numpy as np\n",
        "import pandas as pd\n",
        "import matplotlib.pyplot as plt\n",
        "import seaborn as sns\n",
        "print('[info]:  Success')"
      ],
      "execution_count": null,
      "outputs": []
    },
    {
      "cell_type": "code",
      "metadata": {
        "dc": {
          "key": "4"
        },
        "tags": [
          "sample_code"
        ],
        "trusted": true,
        "id": "NN2i4qNwWnBQ"
      },
      "source": [
        "# Let's see the content of git_log_excerpt.csv\n",
        "print(pd.read_csv('git_log_excerpt.csv'))"
      ],
      "execution_count": null,
      "outputs": []
    },
    {
      "cell_type": "markdown",
      "metadata": {
        "dc": {
          "key": "11"
        },
        "deletable": false,
        "editable": false,
        "run_control": {
          "frozen": true
        },
        "tags": [
          "context"
        ],
        "id": "ziXQb40_WnBT"
      },
      "source": [
        "## 2. Reading in the dataset\n",
        "<p>The dataset was created by using the command <code>git log --encoding=latin-1 --pretty=\"%at#%aN\"</code> in late 2017. The <code>latin-1</code> encoded text output was saved in a header-less CSV file. In this file, each row is a commit entry with the following information:</p>\n",
        "<ul>\n",
        "<li><code>timestamp</code>: the time of the commit as a UNIX timestamp in seconds since 1970-01-01 00:00:00 (Git log placeholder \"<code>%at</code>\")</li>\n",
        "<li><code>author</code>: the name of the author that performed the commit (Git log placeholder \"<code>%aN</code>\")</li>\n",
        "</ul>\n",
        "<p>The columns are separated by the number sign <code>#</code>. The complete dataset is in the <code>datasets/</code> directory. It is a <code>gz</code>-compressed csv file named <code>git_log.gz</code>.</p>"
      ]
    },
    {
      "cell_type": "code",
      "metadata": {
        "dc": {
          "key": "11"
        },
        "tags": [
          "sample_code"
        ],
        "trusted": true,
        "id": "pX9gbuOIWnBU"
      },
      "source": [
        "# Reading in the log file\n",
        "git_log = pd.read_csv('/content/git_log.gz',sep='#',encoding='latin-1',header=None,names=['timestamp','author'], lineterminator='\\t')\n",
        "\n",
        "# Printing out the first 5 rows\n",
        "git_log.head()"
      ],
      "execution_count": null,
      "outputs": []
    },
    {
      "cell_type": "markdown",
      "metadata": {
        "dc": {
          "key": "18"
        },
        "deletable": false,
        "editable": false,
        "run_control": {
          "frozen": true
        },
        "tags": [
          "context"
        ],
        "id": "m3k3cgaOWnBW"
      },
      "source": [
        "## 3. Getting an overview\n",
        "<p>The dataset contains the information about every single code contribution (a \"commit\") to the Linux kernel over the last 13 years. We'll first take a look at the number of authors and their commits to the repository.</p>"
      ]
    },
    {
      "cell_type": "code",
      "metadata": {
        "dc": {
          "key": "18"
        },
        "tags": [
          "sample_code"
        ],
        "trusted": true,
        "id": "3r0IbhloWnBX"
      },
      "source": [
        "# calculating number of commits\n",
        "a,b = git_log.shape\n",
        "number_of_commits = a\n",
        "\n",
        "# calculating number of authors\n",
        "number_of_authors = len(git_log.author.dropna().unique())\n",
        "\n",
        "# printing out the results\n",
        "print(\"%s authors committed %s code changes.\" % (number_of_authors, number_of_commits))"
      ],
      "execution_count": null,
      "outputs": []
    },
    {
      "cell_type": "markdown",
      "metadata": {
        "dc": {
          "key": "25"
        },
        "deletable": false,
        "editable": false,
        "run_control": {
          "frozen": true
        },
        "tags": [
          "context"
        ],
        "id": "Y0QpAgexWnBY"
      },
      "source": [
        "## 4. Finding the TOP 10 contributors\n",
        "<p>There are some very important people that changed the Linux kernel very often. To see if there are any bottlenecks, we take a look at the TOP 10 authors with the most commits.</p>"
      ]
    },
    {
      "cell_type": "code",
      "metadata": {
        "dc": {
          "key": "25"
        },
        "trusted": true,
        "id": "ID4vgzD3WnBa"
      },
      "source": [
        "git_log.author.value_counts()[:10].index"
      ],
      "execution_count": null,
      "outputs": []
    },
    {
      "cell_type": "code",
      "metadata": {
        "dc": {
          "key": "25"
        },
        "tags": [
          "sample_code"
        ],
        "trusted": true,
        "id": "mEPPv7INWnBb"
      },
      "source": [
        "# Identifying the top 10 authors\n",
        "top_10_authors = git_log.author.value_counts()[:10]\n",
        "\n",
        "# Listing contents of 'top_10_authors'\n",
        "top_10_authors"
      ],
      "execution_count": null,
      "outputs": []
    },
    {
      "cell_type": "markdown",
      "metadata": {
        "dc": {
          "key": "32"
        },
        "deletable": false,
        "editable": false,
        "run_control": {
          "frozen": true
        },
        "tags": [
          "context"
        ],
        "id": "Klt3KI6cWnBd"
      },
      "source": [
        "## 5. Wrangling the data\n",
        "<p>For our analysis, we want to visualize the contributions over time. For this, we use the information in the <code>timestamp</code> column to create a time series-based column.</p>"
      ]
    },
    {
      "cell_type": "code",
      "metadata": {
        "dc": {
          "key": "32"
        },
        "tags": [
          "sample_code"
        ],
        "trusted": true,
        "id": "ixMyTSQWWnBd"
      },
      "source": [
        "# converting the timestamp column\n",
        "git_log.timestamp = pd.to_datetime(git_log.timestamp,unit=\"s\")\n",
        "# summarizing the converted timestamp column\n",
        "git_log.timestamp.describe()"
      ],
      "execution_count": null,
      "outputs": []
    },
    {
      "cell_type": "markdown",
      "metadata": {
        "dc": {
          "key": "39"
        },
        "deletable": false,
        "editable": false,
        "run_control": {
          "frozen": true
        },
        "tags": [
          "context"
        ],
        "id": "sZhgH_BeWnBe"
      },
      "source": [
        "## 6. Treating wrong timestamps\n",
        "<p>As we can see from the results above, some contributors had their operating system's time incorrectly set when they committed to the repository. We'll clean up the <code>timestamp</code> column by dropping the rows with the incorrect timestamps.</p>"
      ]
    },
    {
      "cell_type": "code",
      "metadata": {
        "dc": {
          "key": "39"
        },
        "trusted": true,
        "id": "lKgBoVZ1WnBf"
      },
      "source": [
        "git_log.timestamp.sort_values()[:5]"
      ],
      "execution_count": null,
      "outputs": []
    },
    {
      "cell_type": "code",
      "metadata": {
        "dc": {
          "key": "39"
        },
        "tags": [
          "sample_code"
        ],
        "trusted": true,
        "id": "4xYcw5abWnBf"
      },
      "source": [
        "# determining the first real commit timestamp\n",
        "first_commit_timestamp = '2005-04-16 22:20:36'\n",
        "\n",
        "# determining the last sensible commit timestamp\n",
        "last_commit_timestamp = '2017-10-03 12:57:00'\n",
        "\n",
        "# filtering out wrong timestamps\n",
        "corrected_log = git_log[(git_log.timestamp >= first_commit_timestamp) & (git_log.timestamp <= last_commit_timestamp)]\n",
        "\n",
        "# summarizing the corrected timestamp column\n",
        "corrected_log.describe()"
      ],
      "execution_count": null,
      "outputs": []
    },
    {
      "cell_type": "markdown",
      "metadata": {
        "dc": {
          "key": "46"
        },
        "deletable": false,
        "editable": false,
        "run_control": {
          "frozen": true
        },
        "tags": [
          "context"
        ],
        "id": "FREb3Bq3WnBg"
      },
      "source": [
        "## 7. Grouping commits per year\n",
        "<p>To find out how the development activity has increased over time, we'll group the commits by year and count them up.</p>"
      ]
    },
    {
      "cell_type": "code",
      "metadata": {
        "dc": {
          "key": "46"
        },
        "tags": [
          "sample_code"
        ],
        "trusted": true,
        "id": "56AixMAmWnBh"
      },
      "source": [
        "# Counting the no. commits per year\n",
        "commits_per_year = corrected_log.groupby(pd.Grouper(key='timestamp',freq='AS')).count()\n",
        "\n",
        "# Listing the first rows\n",
        "commits_per_year.head(5)"
      ],
      "execution_count": null,
      "outputs": []
    },
    {
      "cell_type": "markdown",
      "metadata": {
        "dc": {
          "key": "53"
        },
        "deletable": false,
        "editable": false,
        "run_control": {
          "frozen": true
        },
        "tags": [
          "context"
        ],
        "id": "5heVF-sSWnBi"
      },
      "source": [
        "## 8. Visualizing the history of Linux\n",
        "<p>Finally, we'll make a plot out of these counts to better see how the development effort on Linux has increased over the the last few years. </p>"
      ]
    },
    {
      "cell_type": "code",
      "metadata": {
        "dc": {
          "key": "53"
        },
        "tags": [
          "sample_code"
        ],
        "trusted": true,
        "id": "E-ke0uGuWnBi"
      },
      "source": [
        "# Setting up plotting in Jupyter notebooks\n",
        "%matplotlib inline\n",
        "# plot the data\n",
        "commits_per_year.plot.line()\n",
        "plt.figure(figsize=[10,12])\n",
        "plt.title('No. of commits over years on Linux')\n",
        "plt.ylabel('No. of Commits')\n",
        "plt.yticks([20000,30000,40000,50000,60000,70000],['20K','30K','40K','50K','60K','70K'])\n",
        "plt.xlabel('Year')\n",
        "plt.show()"
      ],
      "execution_count": null,
      "outputs": []
    },
    {
      "cell_type": "markdown",
      "metadata": {
        "dc": {
          "key": "60"
        },
        "deletable": false,
        "editable": false,
        "run_control": {
          "frozen": true
        },
        "tags": [
          "context"
        ],
        "id": "E3KhjNk1WnBj"
      },
      "source": [
        "## 9.  Conclusion\n",
        "<p>Thanks to the solid foundation and caretaking of Linux Torvalds, many other developers are now able to contribute to the Linux kernel as well. There is no decrease of development activity at sight!\n",
        "The most number of commits were placed in year 2016</p>"
      ]
    }
  ]
}