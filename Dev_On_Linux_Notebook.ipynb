{
  "nbformat": 4,
  "nbformat_minor": 0,
  "metadata": {
    "kernelspec": {
      "name": "python3",
      "display_name": "Python 3",
      "language": "python"
    },
    "language_info": {
      "name": "python",
      "version": "3.6.7",
      "mimetype": "text/x-python",
      "codemirror_mode": {
        "name": "ipython",
        "version": 3
      },
      "pygments_lexer": "ipython3",
      "nbconvert_exporter": "python",
      "file_extension": ".py"
    },
    "colab": {
      "name": "notebook.ipynb",
      "provenance": []
    }
  },
  "cells": [
    {
      "cell_type": "markdown",
      "metadata": {
        "dc": {
          "key": "4"
        },
        "deletable": false,
        "editable": false,
        "run_control": {
          "frozen": true
        },
        "tags": [
          "context"
        ],
        "id": "j7U-N4eSWnBK"
      },
      "source": [
        "## 1. Introduction\n",
        "\n",
        "<p>Version control repositories like CVS, Subversion or Git can be a real gold mine for software developers. They contain every change to the source code including the date (the \"when\"), the responsible developer (the \"who\"), as well as a little message that describes the intention (the \"what\") of a change.</p>\n",
        "<p>In this notebook, we will analyze the evolution of a very famous open-source project &ndash; the Linux kernel. The Linux kernel is the heart of some Linux distributions like Debian, Ubuntu or CentOS. Our dataset at hand contains the history of kernel development of almost 13 years (early 2005 - late 2017). We get some insights into the work of the development efforts by </p>\n",
        "<ul>\n",
        "<li>identifying the TOP 10 contributors and</li>\n",
        "<li>visualizing the commits over the years.</li>\n",
        "</ul>"
      ]
    },
    {
      "cell_type": "code",
      "metadata": {
        "colab": {
          "base_uri": "https://localhost:8080/"
        },
        "id": "yh8AnRCAXj3v",
        "outputId": "ec641af9-d946-4f4e-8f59-1cc5478c9a62"
      },
      "source": [
        "#Importing required pacakages\n",
        "import numpy as np\n",
        "import pandas as pd\n",
        "import matplotlib.pyplot as plt\n",
        "import seaborn as sns\n",
        "print('[info]:  Success')"
      ],
      "execution_count": 13,
      "outputs": [
        {
          "output_type": "stream",
          "text": [
            "[info]:  Success\n"
          ],
          "name": "stdout"
        }
      ]
    },
    {
      "cell_type": "code",
      "metadata": {
        "dc": {
          "key": "4"
        },
        "tags": [
          "sample_code"
        ],
        "trusted": true,
        "colab": {
          "base_uri": "https://localhost:8080/"
        },
        "id": "NN2i4qNwWnBQ",
        "outputId": "deee0ad0-646a-4216-e82f-f5c36c4c9c0b"
      },
      "source": [
        "# Let's see the content of git_log_excerpt.csv\n",
        "print(pd.read_csv('git_log_excerpt.csv'))"
      ],
      "execution_count": 14,
      "outputs": [
        {
          "output_type": "stream",
          "text": [
            "      1502382966#Linus Torvalds\n",
            "0       1501368308#Max Gurtovoy\n",
            "1        1501625560#James Smart\n",
            "2        1501625559#James Smart\n",
            "3       1500568442#Martin Wilck\n",
            "4           1502273719#Xin Long\n",
            "5    1502278684#Nikolay Borisov\n",
            "6  1502238384#Girish Moodalbail\n",
            "7   1502228709#Florian Fainelli\n",
            "8     1502223836#Jon Paul Maloy\n"
          ],
          "name": "stdout"
        }
      ]
    },
    {
      "cell_type": "markdown",
      "metadata": {
        "dc": {
          "key": "11"
        },
        "deletable": false,
        "editable": false,
        "run_control": {
          "frozen": true
        },
        "tags": [
          "context"
        ],
        "id": "ziXQb40_WnBT"
      },
      "source": [
        "## 2. Reading in the dataset\n",
        "<p>The dataset was created by using the command <code>git log --encoding=latin-1 --pretty=\"%at#%aN\"</code> in late 2017. The <code>latin-1</code> encoded text output was saved in a header-less CSV file. In this file, each row is a commit entry with the following information:</p>\n",
        "<ul>\n",
        "<li><code>timestamp</code>: the time of the commit as a UNIX timestamp in seconds since 1970-01-01 00:00:00 (Git log placeholder \"<code>%at</code>\")</li>\n",
        "<li><code>author</code>: the name of the author that performed the commit (Git log placeholder \"<code>%aN</code>\")</li>\n",
        "</ul>\n",
        "<p>The columns are separated by the number sign <code>#</code>. The complete dataset is in the <code>datasets/</code> directory. It is a <code>gz</code>-compressed csv file named <code>git_log.gz</code>.</p>"
      ]
    },
    {
      "cell_type": "code",
      "metadata": {
        "dc": {
          "key": "11"
        },
        "tags": [
          "sample_code"
        ],
        "trusted": true,
        "colab": {
          "base_uri": "https://localhost:8080/",
          "height": 274
        },
        "id": "pX9gbuOIWnBU",
        "outputId": "98dccf7f-0e26-48a0-ba47-7f8ce394c89d"
      },
      "source": [
        "# Reading in the log file\n",
        "git_log = pd.read_csv('/content/git_log.gz',sep='#',encoding='latin-1',header=None,names=['timestamp','author'], lineterminator='\\t')\n",
        "\n",
        "# Printing out the first 5 rows\n",
        "git_log.head()"
      ],
      "execution_count": 23,
      "outputs": [
        {
          "output_type": "execute_result",
          "data": {
            "text/html": [
              "<div>\n",
              "<style scoped>\n",
              "    .dataframe tbody tr th:only-of-type {\n",
              "        vertical-align: middle;\n",
              "    }\n",
              "\n",
              "    .dataframe tbody tr th {\n",
              "        vertical-align: top;\n",
              "    }\n",
              "\n",
              "    .dataframe thead th {\n",
              "        text-align: right;\n",
              "    }\n",
              "</style>\n",
              "<table border=\"1\" class=\"dataframe\">\n",
              "  <thead>\n",
              "    <tr style=\"text-align: right;\">\n",
              "      <th></th>\n",
              "      <th>timestamp</th>\n",
              "      <th>author</th>\n",
              "    </tr>\n",
              "  </thead>\n",
              "  <tbody>\n",
              "    <tr>\n",
              "      <th>ï¿½\b\bkd</th>\n",
              "      <td>]</td>\n",
              "      <td>ï¿½ï¿½ï¿½ï¿½È\bï¿½ï¿½\u0001\u001aï¿½ ï¿½ï¿½ï¿½}ï¿½ï¿½gï¿...</td>\n",
              "    </tr>\n",
              "    <tr>\n",
              "      <th>ï¿½\u000e\\nï¿½{@ï¿½ï¿½ï¿½ÌYÕVï¿½L9ï¿½ï¿½ï¿½ï¿½ï¿½ï¿½]r]7\u000fqï¿½ï¿½ï¿½EZ!ï¿½</th>\n",
              "      <td>NaN</td>\n",
              "      <td>NaN</td>\n",
              "    </tr>\n",
              "    <tr>\n",
              "      <th>ï¿½ï¿½USï¿½*ï¿½ï¿½Vï¿½ï¿½9\u0012\u0019Cdï¿½2ï¿½Hï¿½ï¿½|ï¿½ï¿½ï¿½ï¿½ï¿½_ï¿½\\t^yï¿½ï¿½M/ï¿½ï¿½ï¿½&amp;6ï¿½c\u0013~ï¿½m7%ï¿½\u0014ï¿½xï¿½ï¿½ï¿½ï¿½uï¿½|ï¿½7ï¿½ï¿½ï¿½{ï¿½ziï¿½ï¿½7ï¿½}ï¿½ï¿½iwï¿½Eï¿½x&amp;ï¿½ï¿½W_oï¿½&amp;ï¿½ï¿½ï¿½ï¿½ï¿½fÐLf\u0006ï¿½ï¿½Vï¿½Ê«Ulï¿½ï¿½vï¿½ï¿½\u001fï¿½\u0005cï¿½ï¿½\u001cï¿½ï¿½ï¿½Uï¿½ï¿½ï¿½ï¿½\u0003zï¿½ï¿½mï¿½zÐ Oï¿½\u0014Ôï¿½ï¿½)&gt;ï¿½ï¿½ï¿½.ï¿½ï¿½ï¿½ï¿½]G(oï¿½qï¿½;&lt;ï¿½66ï¿½ï¿½qhï¿½\\t-ï¿½Ktï¿½Ï¢ï¿½gRï¿½,ï¿½ï¿½ï¿½ï¿½\u0006/ï¿½ë¦¼ï¿½ï¿½\u001bLï¿½Ø®\fZï¿½ï¿½34ï¿½\\ï¿½ï¿½]ï¿½Ùï¿½ï¿½$ï¿½ï¿½ï¿½\u0015ï¿½gï¿½ï¿½Hï¿½ï¿½Iï¿½\\\bYï¿½ï¿½\u0001Ïï¿½ï¿½9ï¿½ï¿½Mß4ï¿½I^ï¿½ï¿½ï¿½ï¿½ï¿½\u000e-ï¿½)ï¿½\u0005ï¿½ï¿½hoN\u0016\\nï¿½8ï¿½ï¿½2/ï¿½ï¿½Pï¿½\u0004r.ï¿½ï¿½ï¿½!e3cOW\u001eï¿½ï¿½Z8ï¿½~ï¿½1ï¿½ï¿½ï¿½ï¿½Clï¿½\u0001W\u001e\u001fbpï¿½ï¿½rï¿½Fï¿½\u0019\\(/ï¿½ï¿½apNï¿½iTï¿½ï¿½ï¿½)ï¿½ï¿½Ígq\u0017ï¿½ï¿½Rï¿½*ï¿½\u001fï¿½Mï¿½ï¿½ï¿½ÍMï¿½\u001bï¿½Tï¿½</th>\n",
              "      <td>NaN</td>\n",
              "      <td>NaN</td>\n",
              "    </tr>\n",
              "    <tr>\n",
              "      <th>ï¿½ï¿½_ï¿½ï¿½1/ï¿½ï¿½H-ï¿½ï¿½ï¿½\u0011fï¿½ï¿½9I&gt;B0ï¿½7Rï¿½ï¿½GÝyMï¿½ï¿½\u0001\u001b5ï¿½\u0004ï¿½$lFï¿½oï¿½ï¿½ï¿½ï¿½icï¿½ï¿½_U\u000eï¿½q\u0001[uï¿½Ê¤6&lt;eCð£ï¿½|\u0016ï¿½\fï¿½ï¿½ï¿½p\\r\\n|Ê«ï¿½\u00061\u0005ï¿½[J9ï¿½ï¿½K\u0007</th>\n",
              "      <td>ZHï¿½ï¿½ï¿½vï¿½ï¿½ï¿½\u000fï¿½ï¿½ï¿½d\bJï¿½{&gt;ï¿½ï¿½ï...</td>\n",
              "      <td>ï¿½\u0010ï¿½ï¿½&gt;\u0004|\u001d=ï¿½^ï¿½\u0011ï¿½ï¿½ï¿½Xï¿½ï¿½\b!Bæ§¸p...</td>\n",
              "    </tr>\n",
              "    <tr>\n",
              "      <th>x6\u0006×ï¿½ï¿½%.ï¿½wï¿½ï¿½\fn=B\u0002ï¿½\u000eBï¿½ï¿½\\Oï¿½ï¿½ï¿½ï¿½)ï¿½ï¿½Qvï¿½\u0005ï¿½,'ï¿½\u0011@\u001c^ï¿½Ã°ï¿½:ï¿½Oï¿½Lzk\\rï¿½G\u0011ï¿½\bï¿½yÝÉ§r]ï¿½\u0016ï¿½`nBCK^Qï¿½ï¿½&gt;*ï¿½\u000eï¿½\u001cï¿½N@\u0018r&amp;ï¿½ï¿½ï¿½ï¿½ï¿½ï¿½8hï¿½\u000eï¿½3ï¿½ï¿½q\u0011fï¿½lï¿½ï¿½+ï¿½Cï¿½ï¿½\\nï¿½ï¿½7wÇ\u0005ï¿½Cï¿½ï¿½.ï¿½mï¿½ï¿½ï¿½ï¿½(U@</th>\n",
              "      <td>7ï¿½6ï¿½Å\u0002ï¿½ï¿½ï¿½0Lï¿½\u0015ï¿½\u001f1ï¿½Mï¿½ï¿½ï¿½ï...</td>\n",
              "      <td>*ï¿½`ï¿½ï¿½yï¿½Yï¿½ï¿½ï¿½ï¿½ï¿½?\u001cd(Rï¿½\u0006ï¿½ï¿½...</td>\n",
              "    </tr>\n",
              "  </tbody>\n",
              "</table>\n",
              "</div>"
            ],
            "text/plain": [
              "                                                                                            timestamp                                             author\n",
              "\u001fï¿½\b\bkd                                                                                            ]  ï¿½ï¿½ï¿½ï¿½È\bï¿½ï¿½\u0001\u001aï¿½ ï¿½ï¿½ï¿½}ï¿½ï¿½gï¿...\n",
              "ï¿½\u000e\\nï¿½{@ï¿½ï¿½ï¿½ÌYÕVï¿½L9ï¿½ï¿½ï¿½ï¿½ï¿½ï...                                                NaN                                                NaN\n",
              "\n",
              "ï¿½ï¿½USï¿½*ï¿½ï¿½Vï¿½ï¿½9\u0012\u0019Cdï¿½2ï¿½Hï¿½ï¿½|ï...                                                NaN                                                NaN\n",
              "ï¿½ï¿½_ï¿½ï¿½1/ï¿½ï¿½H-ï¿½ï¿½ï¿½\u0011fï¿½ï¿½9I>B0ï¿...  ZHï¿½ï¿½ï¿½vï¿½ï¿½ï¿½\u000fï¿½ï¿½ï¿½d\bJï¿½{>ï¿½ï¿½ï...  ï¿½\u0010ï¿½ï¿½>\u0004|\n",
              "=ï¿½^ï¿½\u0011ï¿½ï¿½ï¿½Xï¿½ï¿½\b!Bæ§¸p...\n",
              "x6\u0006×ï¿½ï¿½%.ï¿½wï¿½ï¿½\n",
              "n=B\u0002ï¿½\u000eBï¿½ï¿½\\Oï¿½ï¿½...   7ï¿½6ï¿½Å\u0002ï¿½ï¿½ï¿½0Lï¿½\u0015ï¿½\u001f1ï¿½Mï¿½ï¿½ï¿½ï...  *ï¿½`ï¿½ï¿½yï¿½Yï¿½ï¿½ï¿½ï¿½ï¿½?\n",
              "d(Rï¿½\u0006ï¿½ï¿½..."
            ]
          },
          "metadata": {
            "tags": []
          },
          "execution_count": 23
        }
      ]
    },
    {
      "cell_type": "markdown",
      "metadata": {
        "dc": {
          "key": "18"
        },
        "deletable": false,
        "editable": false,
        "run_control": {
          "frozen": true
        },
        "tags": [
          "context"
        ],
        "id": "m3k3cgaOWnBW"
      },
      "source": [
        "## 3. Getting an overview\n",
        "<p>The dataset contains the information about every single code contribution (a \"commit\") to the Linux kernel over the last 13 years. We'll first take a look at the number of authors and their commits to the repository.</p>"
      ]
    },
    {
      "cell_type": "code",
      "metadata": {
        "dc": {
          "key": "18"
        },
        "tags": [
          "sample_code"
        ],
        "trusted": true,
        "colab": {
          "base_uri": "https://localhost:8080/"
        },
        "id": "3r0IbhloWnBX",
        "outputId": "fc11d696-9d16-43df-83fb-7cdf1939fd4f"
      },
      "source": [
        "# calculating number of commits\n",
        "a,b = git_log.shape\n",
        "number_of_commits = a\n",
        "\n",
        "# calculating number of authors\n",
        "number_of_authors = len(git_log.author.dropna().unique())\n",
        "\n",
        "# printing out the results\n",
        "print(\"%s authors committed %s code changes.\" % (number_of_authors, number_of_commits))"
      ],
      "execution_count": 24,
      "outputs": [
        {
          "output_type": "stream",
          "text": [
            "4362 authors committed 16960 code changes.\n"
          ],
          "name": "stdout"
        }
      ]
    },
    {
      "cell_type": "markdown",
      "metadata": {
        "dc": {
          "key": "25"
        },
        "deletable": false,
        "editable": false,
        "run_control": {
          "frozen": true
        },
        "tags": [
          "context"
        ],
        "id": "Y0QpAgexWnBY"
      },
      "source": [
        "## 4. Finding the TOP 10 contributors\n",
        "<p>There are some very important people that changed the Linux kernel very often. To see if there are any bottlenecks, we take a look at the TOP 10 authors with the most commits.</p>"
      ]
    },
    {
      "cell_type": "code",
      "metadata": {
        "dc": {
          "key": "25"
        },
        "trusted": true,
        "id": "ID4vgzD3WnBa"
      },
      "source": [
        "git_log.author.value_counts()[:10].index"
      ],
      "execution_count": null,
      "outputs": []
    },
    {
      "cell_type": "code",
      "metadata": {
        "dc": {
          "key": "25"
        },
        "tags": [
          "sample_code"
        ],
        "trusted": true,
        "id": "mEPPv7INWnBb"
      },
      "source": [
        "# Identifying the top 10 authors\n",
        "top_10_authors = git_log.author.value_counts()[:10]\n",
        "\n",
        "# Listing contents of 'top_10_authors'\n",
        "top_10_authors"
      ],
      "execution_count": null,
      "outputs": []
    },
    {
      "cell_type": "markdown",
      "metadata": {
        "dc": {
          "key": "32"
        },
        "deletable": false,
        "editable": false,
        "run_control": {
          "frozen": true
        },
        "tags": [
          "context"
        ],
        "id": "Klt3KI6cWnBd"
      },
      "source": [
        "## 5. Wrangling the data\n",
        "<p>For our analysis, we want to visualize the contributions over time. For this, we use the information in the <code>timestamp</code> column to create a time series-based column.</p>"
      ]
    },
    {
      "cell_type": "code",
      "metadata": {
        "dc": {
          "key": "32"
        },
        "tags": [
          "sample_code"
        ],
        "trusted": true,
        "id": "ixMyTSQWWnBd"
      },
      "source": [
        "# converting the timestamp column\n",
        "git_log.timestamp = pd.to_datetime(git_log.timestamp,unit=\"s\")\n",
        "# summarizing the converted timestamp column\n",
        "git_log.timestamp.describe()"
      ],
      "execution_count": null,
      "outputs": []
    },
    {
      "cell_type": "markdown",
      "metadata": {
        "dc": {
          "key": "39"
        },
        "deletable": false,
        "editable": false,
        "run_control": {
          "frozen": true
        },
        "tags": [
          "context"
        ],
        "id": "sZhgH_BeWnBe"
      },
      "source": [
        "## 6. Treating wrong timestamps\n",
        "<p>As we can see from the results above, some contributors had their operating system's time incorrectly set when they committed to the repository. We'll clean up the <code>timestamp</code> column by dropping the rows with the incorrect timestamps.</p>"
      ]
    },
    {
      "cell_type": "code",
      "metadata": {
        "dc": {
          "key": "39"
        },
        "trusted": true,
        "id": "lKgBoVZ1WnBf"
      },
      "source": [
        "git_log.timestamp.sort_values()[:5]"
      ],
      "execution_count": null,
      "outputs": []
    },
    {
      "cell_type": "code",
      "metadata": {
        "dc": {
          "key": "39"
        },
        "tags": [
          "sample_code"
        ],
        "trusted": true,
        "id": "4xYcw5abWnBf"
      },
      "source": [
        "# determining the first real commit timestamp\n",
        "first_commit_timestamp = '2005-04-16 22:20:36'\n",
        "\n",
        "# determining the last sensible commit timestamp\n",
        "last_commit_timestamp = '2017-10-03 12:57:00'\n",
        "\n",
        "# filtering out wrong timestamps\n",
        "corrected_log = git_log[(git_log.timestamp >= first_commit_timestamp) & (git_log.timestamp <= last_commit_timestamp)]\n",
        "\n",
        "# summarizing the corrected timestamp column\n",
        "corrected_log.describe()"
      ],
      "execution_count": null,
      "outputs": []
    },
    {
      "cell_type": "markdown",
      "metadata": {
        "dc": {
          "key": "46"
        },
        "deletable": false,
        "editable": false,
        "run_control": {
          "frozen": true
        },
        "tags": [
          "context"
        ],
        "id": "FREb3Bq3WnBg"
      },
      "source": [
        "## 7. Grouping commits per year\n",
        "<p>To find out how the development activity has increased over time, we'll group the commits by year and count them up.</p>"
      ]
    },
    {
      "cell_type": "code",
      "metadata": {
        "dc": {
          "key": "46"
        },
        "tags": [
          "sample_code"
        ],
        "trusted": true,
        "id": "56AixMAmWnBh"
      },
      "source": [
        "# Counting the no. commits per year\n",
        "commits_per_year = corrected_log.groupby(pd.Grouper(key='timestamp',freq='AS')).count()\n",
        "\n",
        "# Listing the first rows\n",
        "commits_per_year.head(5)"
      ],
      "execution_count": null,
      "outputs": []
    },
    {
      "cell_type": "markdown",
      "metadata": {
        "dc": {
          "key": "53"
        },
        "deletable": false,
        "editable": false,
        "run_control": {
          "frozen": true
        },
        "tags": [
          "context"
        ],
        "id": "5heVF-sSWnBi"
      },
      "source": [
        "## 8. Visualizing the history of Linux\n",
        "<p>Finally, we'll make a plot out of these counts to better see how the development effort on Linux has increased over the the last few years. </p>"
      ]
    },
    {
      "cell_type": "code",
      "metadata": {
        "dc": {
          "key": "53"
        },
        "tags": [
          "sample_code"
        ],
        "trusted": true,
        "id": "E-ke0uGuWnBi"
      },
      "source": [
        "# Setting up plotting in Jupyter notebooks\n",
        "%matplotlib inline\n",
        "# plot the data\n",
        "commits_per_year.plot.line()\n",
        "plt.figure(figsize=[10,12])\n",
        "plt.title('No. of commits over years on Linux')\n",
        "plt.ylabel('No. of Commits')\n",
        "plt.yticks([20000,30000,40000,50000,60000,70000],['20K','30K','40K','50K','60K','70K'])\n",
        "plt.xlabel('Year')\n",
        "plt.show()"
      ],
      "execution_count": null,
      "outputs": []
    },
    {
      "cell_type": "markdown",
      "metadata": {
        "dc": {
          "key": "60"
        },
        "deletable": false,
        "editable": false,
        "run_control": {
          "frozen": true
        },
        "tags": [
          "context"
        ],
        "id": "E3KhjNk1WnBj"
      },
      "source": [
        "## 9.  Conclusion\n",
        "<p>Thanks to the solid foundation and caretaking of Linux Torvalds, many other developers are now able to contribute to the Linux kernel as well. There is no decrease of development activity at sight!\n",
        "The most number of commits were placed in year 2016</p>"
      ]
    }
  ]
}